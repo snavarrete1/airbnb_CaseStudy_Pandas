{
 "cells": [
  {
   "cell_type": "markdown",
   "metadata": {},
   "source": [
    "# AirBnB NY Locations Data Case Study\n",
    "\n",
    "In this final project, you task will be to take the data provided and find evidance to answer the following questions.\n",
    "\n",
    "1. Which hosts are the busiest and why?\n",
    "2. How many neighborhood groups are available and which shows up the most?\n",
    "3. Are private rooms the most popular in manhattan?\n",
    "4. Which hosts are the busiest and based on their reviews?\n",
    "5. Which neighorhood group has the highest average price?\n",
    "6. Which neighborhood group has the highest total price?\n",
    "7. Which top 5 hosts have the highest total price?\n",
    "8. Who currently has no (zero) availability with a review count of 100 or more?\n",
    "9. What host has the highest total of prices and where are they located?\n",
    "10. When did Danielle from Queens last receive a review?\n",
    "\n",
    "You will be given **4 hours** to complete this assignment. \n",
    "**Be Advised** I will go dark for this intire assignment time period. That said, any questions that you would like to ask about the data, or the project **MUST** be asked before the time starts. Once the time has started, I can no longer give information.\n",
    "\n",
    "This is to similate what you will face when you are out in the wild. \n",
    "\n",
    "Happy Coding!"
   ]
  },
  {
   "cell_type": "code",
   "execution_count": 132,
   "metadata": {},
   "outputs": [],
   "source": [
    "import numpy as np\n",
    "import pandas as pd\n",
    "import matplotlib.pyplot as plt"
   ]
  },
  {
   "cell_type": "code",
   "execution_count": 133,
   "metadata": {},
   "outputs": [
    {
     "data": {
      "text/plain": [
       "id                                  int64\n",
       "name                               object\n",
       "host_id                             int64\n",
       "host_name                          object\n",
       "neighbourhood_group                object\n",
       "neighbourhood                      object\n",
       "latitude                          float64\n",
       "longitude                         float64\n",
       "room_type                          object\n",
       "price                               int64\n",
       "minimum_nights                      int64\n",
       "number_of_reviews                   int64\n",
       "last_review                        object\n",
       "reviews_per_month                 float64\n",
       "calculated_host_listings_count      int64\n",
       "availability_365                    int64\n",
       "dtype: object"
      ]
     },
     "execution_count": 133,
     "metadata": {},
     "output_type": "execute_result"
    }
   ],
   "source": [
    "air_bnb = pd.read_csv('files/AB_NYC_2019.csv')\n",
    "air_bnb.head()\n",
    "air_bnb.dtypes"
   ]
  },
  {
   "cell_type": "code",
   "execution_count": 7,
   "metadata": {},
   "outputs": [
    {
     "data": {
      "text/plain": [
       "Manhattan        21661\n",
       "Brooklyn         20104\n",
       "Queens            5666\n",
       "Bronx             1091\n",
       "Staten Island      373\n",
       "Name: neighbourhood_group, dtype: int64"
      ]
     },
     "execution_count": 7,
     "metadata": {},
     "output_type": "execute_result"
    }
   ],
   "source": [
    "# How many neighborhood groups are available and which shows up the most?\n",
    "air_bnb.neighbourhood_group.value_counts().head(50)\n",
    "\n"
   ]
  },
  {
   "cell_type": "code",
   "execution_count": 37,
   "metadata": {},
   "outputs": [
    {
     "data": {
      "text/plain": [
       "Entire home/apt    13199\n",
       "Private room        7982\n",
       "Shared room          480\n",
       "Name: room_type, dtype: int64"
      ]
     },
     "execution_count": 37,
     "metadata": {},
     "output_type": "execute_result"
    }
   ],
   "source": [
    "# Are private rooms the most popular in manhattan?\n",
    "air_bnb[air_bnb[\"neighbourhood_group\"]== \"Manhattan\"].room_type.value_counts()\n",
    "\n"
   ]
  },
  {
   "cell_type": "code",
   "execution_count": 38,
   "metadata": {},
   "outputs": [
    {
     "data": {
      "text/plain": [
       "host_name\n",
       "David              508.61\n",
       "Michael            475.82\n",
       "Alex               443.44\n",
       "Sonder (NYC)       397.56\n",
       "John               321.02\n",
       "                    ...  \n",
       "Jaymes               0.00\n",
       "Jayme                0.00\n",
       "Jayd                 0.00\n",
       "Jayar                0.00\n",
       "Kortney William      0.00\n",
       "Name: reviews_per_month, Length: 11452, dtype: float64"
      ]
     },
     "execution_count": 38,
     "metadata": {},
     "output_type": "execute_result"
    }
   ],
   "source": [
    "# Which hosts are the busiest and based on their reviews?\n",
    "air_bnb.groupby(\"host_name\")['reviews_per_month'].sum().sort_values(ascending= False)\n",
    "\n"
   ]
  },
  {
   "cell_type": "code",
   "execution_count": 14,
   "metadata": {},
   "outputs": [
    {
     "data": {
      "text/plain": [
       "neighbourhood_group\n",
       "Manhattan        196.875814\n",
       "Brooklyn         124.383207\n",
       "Staten Island    114.812332\n",
       "Queens            99.517649\n",
       "Bronx             87.496792\n",
       "Name: price, dtype: float64"
      ]
     },
     "execution_count": 14,
     "metadata": {},
     "output_type": "execute_result"
    }
   ],
   "source": [
    "#Which neighorhood group has the highest average price?\n",
    "air_bnb.groupby(\"neighbourhood_group\")['price'].mean().sort_values(ascending= False)\n"
   ]
  },
  {
   "cell_type": "code",
   "execution_count": 39,
   "metadata": {},
   "outputs": [
    {
     "data": {
      "text/plain": [
       "neighbourhood_group\n",
       "Manhattan        4264527\n",
       "Brooklyn         2500600\n",
       "Queens            563867\n",
       "Bronx              95459\n",
       "Staten Island      42825\n",
       "Name: price, dtype: int64"
      ]
     },
     "execution_count": 39,
     "metadata": {},
     "output_type": "execute_result"
    }
   ],
   "source": [
    "# Which neighbor hood group has the highest total price?\n",
    "air_bnb.groupby(\"neighbourhood_group\")['price'].sum().sort_values(ascending= False)\n"
   ]
  },
  {
   "cell_type": "code",
   "execution_count": 19,
   "metadata": {},
   "outputs": [
    {
     "data": {
      "text/plain": [
       "host_name\n",
       "Sonder (NYC)         82795\n",
       "Blueground           70331\n",
       "Michael              66895\n",
       "David                65844\n",
       "Alex                 52563\n",
       "                     ...  \n",
       "Carolann                12\n",
       "Vishanti & Jeremy       10\n",
       "Salim                   10\n",
       "Aymeric                  0\n",
       "Qiuchi                   0\n",
       "Name: price, Length: 11452, dtype: int64"
      ]
     },
     "execution_count": 19,
     "metadata": {},
     "output_type": "execute_result"
    }
   ],
   "source": [
    "#Which top 5 hosts have the highest total price?\n",
    "air_bnb.groupby(\"host_name\")['price'].sum().sort_values(ascending= False)\n"
   ]
  },
  {
   "cell_type": "code",
   "execution_count": 41,
   "metadata": {},
   "outputs": [
    {
     "data": {
      "text/html": [
       "<div>\n",
       "<style scoped>\n",
       "    .dataframe tbody tr th:only-of-type {\n",
       "        vertical-align: middle;\n",
       "    }\n",
       "\n",
       "    .dataframe tbody tr th {\n",
       "        vertical-align: top;\n",
       "    }\n",
       "\n",
       "    .dataframe thead th {\n",
       "        text-align: right;\n",
       "    }\n",
       "</style>\n",
       "<table border=\"1\" class=\"dataframe\">\n",
       "  <thead>\n",
       "    <tr style=\"text-align: right;\">\n",
       "      <th></th>\n",
       "      <th>id</th>\n",
       "      <th>name</th>\n",
       "      <th>host_id</th>\n",
       "      <th>host_name</th>\n",
       "      <th>neighbourhood_group</th>\n",
       "      <th>neighbourhood</th>\n",
       "      <th>latitude</th>\n",
       "      <th>longitude</th>\n",
       "      <th>room_type</th>\n",
       "      <th>price</th>\n",
       "      <th>minimum_nights</th>\n",
       "      <th>number_of_reviews</th>\n",
       "      <th>last_review</th>\n",
       "      <th>reviews_per_month</th>\n",
       "      <th>calculated_host_listings_count</th>\n",
       "      <th>availability_365</th>\n",
       "    </tr>\n",
       "  </thead>\n",
       "  <tbody>\n",
       "    <tr>\n",
       "      <th>8</th>\n",
       "      <td>5203</td>\n",
       "      <td>Cozy Clean Guest Room - Family Apt</td>\n",
       "      <td>7490</td>\n",
       "      <td>MaryEllen</td>\n",
       "      <td>Manhattan</td>\n",
       "      <td>Upper West Side</td>\n",
       "      <td>40.80178</td>\n",
       "      <td>-73.96723</td>\n",
       "      <td>Private room</td>\n",
       "      <td>79</td>\n",
       "      <td>2</td>\n",
       "      <td>118</td>\n",
       "      <td>2017-07-21</td>\n",
       "      <td>0.99</td>\n",
       "      <td>1</td>\n",
       "      <td>0</td>\n",
       "    </tr>\n",
       "    <tr>\n",
       "      <th>94</th>\n",
       "      <td>20913</td>\n",
       "      <td>Charming 1 bed GR8 WBurg LOCATION!</td>\n",
       "      <td>79402</td>\n",
       "      <td>Christiana</td>\n",
       "      <td>Brooklyn</td>\n",
       "      <td>Williamsburg</td>\n",
       "      <td>40.70984</td>\n",
       "      <td>-73.95775</td>\n",
       "      <td>Entire home/apt</td>\n",
       "      <td>100</td>\n",
       "      <td>5</td>\n",
       "      <td>168</td>\n",
       "      <td>2018-07-22</td>\n",
       "      <td>1.57</td>\n",
       "      <td>1</td>\n",
       "      <td>0</td>\n",
       "    </tr>\n",
       "    <tr>\n",
       "      <th>132</th>\n",
       "      <td>30031</td>\n",
       "      <td>NYC artistsâ€™ loft with roof deck</td>\n",
       "      <td>129352</td>\n",
       "      <td>Sol</td>\n",
       "      <td>Brooklyn</td>\n",
       "      <td>Greenpoint</td>\n",
       "      <td>40.73494</td>\n",
       "      <td>-73.95030</td>\n",
       "      <td>Private room</td>\n",
       "      <td>50</td>\n",
       "      <td>3</td>\n",
       "      <td>193</td>\n",
       "      <td>2019-05-20</td>\n",
       "      <td>1.86</td>\n",
       "      <td>1</td>\n",
       "      <td>0</td>\n",
       "    </tr>\n",
       "    <tr>\n",
       "      <th>174</th>\n",
       "      <td>44221</td>\n",
       "      <td>Financial District Luxury Loft</td>\n",
       "      <td>193722</td>\n",
       "      <td>Coral</td>\n",
       "      <td>Manhattan</td>\n",
       "      <td>Financial District</td>\n",
       "      <td>40.70666</td>\n",
       "      <td>-74.01374</td>\n",
       "      <td>Entire home/apt</td>\n",
       "      <td>196</td>\n",
       "      <td>3</td>\n",
       "      <td>114</td>\n",
       "      <td>2019-06-20</td>\n",
       "      <td>1.06</td>\n",
       "      <td>1</td>\n",
       "      <td>0</td>\n",
       "    </tr>\n",
       "    <tr>\n",
       "      <th>180</th>\n",
       "      <td>45556</td>\n",
       "      <td>Fort Greene, Brooklyn: Center Bedroom</td>\n",
       "      <td>67778</td>\n",
       "      <td>Doug</td>\n",
       "      <td>Brooklyn</td>\n",
       "      <td>Fort Greene</td>\n",
       "      <td>40.68863</td>\n",
       "      <td>-73.97691</td>\n",
       "      <td>Private room</td>\n",
       "      <td>65</td>\n",
       "      <td>2</td>\n",
       "      <td>206</td>\n",
       "      <td>2019-06-30</td>\n",
       "      <td>1.92</td>\n",
       "      <td>2</td>\n",
       "      <td>0</td>\n",
       "    </tr>\n",
       "    <tr>\n",
       "      <th>...</th>\n",
       "      <td>...</td>\n",
       "      <td>...</td>\n",
       "      <td>...</td>\n",
       "      <td>...</td>\n",
       "      <td>...</td>\n",
       "      <td>...</td>\n",
       "      <td>...</td>\n",
       "      <td>...</td>\n",
       "      <td>...</td>\n",
       "      <td>...</td>\n",
       "      <td>...</td>\n",
       "      <td>...</td>\n",
       "      <td>...</td>\n",
       "      <td>...</td>\n",
       "      <td>...</td>\n",
       "      <td>...</td>\n",
       "    </tr>\n",
       "    <tr>\n",
       "      <th>11323</th>\n",
       "      <td>8798403</td>\n",
       "      <td>Bed and Breakfast in Manhattan!</td>\n",
       "      <td>37818581</td>\n",
       "      <td>Sofia</td>\n",
       "      <td>Manhattan</td>\n",
       "      <td>East Harlem</td>\n",
       "      <td>40.80275</td>\n",
       "      <td>-73.93904</td>\n",
       "      <td>Private room</td>\n",
       "      <td>150</td>\n",
       "      <td>1</td>\n",
       "      <td>225</td>\n",
       "      <td>2018-09-30</td>\n",
       "      <td>4.95</td>\n",
       "      <td>4</td>\n",
       "      <td>0</td>\n",
       "    </tr>\n",
       "    <tr>\n",
       "      <th>11326</th>\n",
       "      <td>8799559</td>\n",
       "      <td>ROOM WITH VIEW IN MANHATTAN!</td>\n",
       "      <td>37818581</td>\n",
       "      <td>Sofia</td>\n",
       "      <td>Manhattan</td>\n",
       "      <td>East Harlem</td>\n",
       "      <td>40.80109</td>\n",
       "      <td>-73.93887</td>\n",
       "      <td>Private room</td>\n",
       "      <td>150</td>\n",
       "      <td>1</td>\n",
       "      <td>207</td>\n",
       "      <td>2019-02-21</td>\n",
       "      <td>4.55</td>\n",
       "      <td>4</td>\n",
       "      <td>0</td>\n",
       "    </tr>\n",
       "    <tr>\n",
       "      <th>12092</th>\n",
       "      <td>9394266</td>\n",
       "      <td>Chelsea studio</td>\n",
       "      <td>48726094</td>\n",
       "      <td>Antonia</td>\n",
       "      <td>Manhattan</td>\n",
       "      <td>Chelsea</td>\n",
       "      <td>40.75088</td>\n",
       "      <td>-73.99951</td>\n",
       "      <td>Private room</td>\n",
       "      <td>100</td>\n",
       "      <td>2</td>\n",
       "      <td>151</td>\n",
       "      <td>2019-06-17</td>\n",
       "      <td>3.46</td>\n",
       "      <td>1</td>\n",
       "      <td>0</td>\n",
       "    </tr>\n",
       "    <tr>\n",
       "      <th>12182</th>\n",
       "      <td>9451126</td>\n",
       "      <td>Cosy Carroll Garden Apartment</td>\n",
       "      <td>48970186</td>\n",
       "      <td>Margarita</td>\n",
       "      <td>Brooklyn</td>\n",
       "      <td>Carroll Gardens</td>\n",
       "      <td>40.68315</td>\n",
       "      <td>-73.99387</td>\n",
       "      <td>Entire home/apt</td>\n",
       "      <td>155</td>\n",
       "      <td>4</td>\n",
       "      <td>128</td>\n",
       "      <td>2019-05-26</td>\n",
       "      <td>2.89</td>\n",
       "      <td>2</td>\n",
       "      <td>0</td>\n",
       "    </tr>\n",
       "    <tr>\n",
       "      <th>12375</th>\n",
       "      <td>9544914</td>\n",
       "      <td>King Bed, Private Room in Crown Heights, Comedian</td>\n",
       "      <td>22423049</td>\n",
       "      <td>Abraham</td>\n",
       "      <td>Brooklyn</td>\n",
       "      <td>Crown Heights</td>\n",
       "      <td>40.67157</td>\n",
       "      <td>-73.94117</td>\n",
       "      <td>Private room</td>\n",
       "      <td>36</td>\n",
       "      <td>2</td>\n",
       "      <td>100</td>\n",
       "      <td>2017-07-31</td>\n",
       "      <td>2.28</td>\n",
       "      <td>1</td>\n",
       "      <td>0</td>\n",
       "    </tr>\n",
       "  </tbody>\n",
       "</table>\n",
       "<p>100 rows × 16 columns</p>\n",
       "</div>"
      ],
      "text/plain": [
       "            id                                               name   host_id  \\\n",
       "8         5203                 Cozy Clean Guest Room - Family Apt      7490   \n",
       "94       20913                 Charming 1 bed GR8 WBurg LOCATION!     79402   \n",
       "132      30031                 NYC artistsâ€™ loft with roof deck    129352   \n",
       "174      44221                     Financial District Luxury Loft    193722   \n",
       "180      45556              Fort Greene, Brooklyn: Center Bedroom     67778   \n",
       "...        ...                                                ...       ...   \n",
       "11323  8798403                    Bed and Breakfast in Manhattan!  37818581   \n",
       "11326  8799559                       ROOM WITH VIEW IN MANHATTAN!  37818581   \n",
       "12092  9394266                                     Chelsea studio  48726094   \n",
       "12182  9451126                      Cosy Carroll Garden Apartment  48970186   \n",
       "12375  9544914  King Bed, Private Room in Crown Heights, Comedian  22423049   \n",
       "\n",
       "        host_name neighbourhood_group       neighbourhood  latitude  \\\n",
       "8       MaryEllen           Manhattan     Upper West Side  40.80178   \n",
       "94     Christiana            Brooklyn        Williamsburg  40.70984   \n",
       "132           Sol            Brooklyn          Greenpoint  40.73494   \n",
       "174         Coral           Manhattan  Financial District  40.70666   \n",
       "180          Doug            Brooklyn         Fort Greene  40.68863   \n",
       "...           ...                 ...                 ...       ...   \n",
       "11323       Sofia           Manhattan         East Harlem  40.80275   \n",
       "11326       Sofia           Manhattan         East Harlem  40.80109   \n",
       "12092     Antonia           Manhattan             Chelsea  40.75088   \n",
       "12182   Margarita            Brooklyn     Carroll Gardens  40.68315   \n",
       "12375     Abraham            Brooklyn       Crown Heights  40.67157   \n",
       "\n",
       "       longitude        room_type  price  minimum_nights  number_of_reviews  \\\n",
       "8      -73.96723     Private room     79               2                118   \n",
       "94     -73.95775  Entire home/apt    100               5                168   \n",
       "132    -73.95030     Private room     50               3                193   \n",
       "174    -74.01374  Entire home/apt    196               3                114   \n",
       "180    -73.97691     Private room     65               2                206   \n",
       "...          ...              ...    ...             ...                ...   \n",
       "11323  -73.93904     Private room    150               1                225   \n",
       "11326  -73.93887     Private room    150               1                207   \n",
       "12092  -73.99951     Private room    100               2                151   \n",
       "12182  -73.99387  Entire home/apt    155               4                128   \n",
       "12375  -73.94117     Private room     36               2                100   \n",
       "\n",
       "      last_review  reviews_per_month  calculated_host_listings_count  \\\n",
       "8      2017-07-21               0.99                               1   \n",
       "94     2018-07-22               1.57                               1   \n",
       "132    2019-05-20               1.86                               1   \n",
       "174    2019-06-20               1.06                               1   \n",
       "180    2019-06-30               1.92                               2   \n",
       "...           ...                ...                             ...   \n",
       "11323  2018-09-30               4.95                               4   \n",
       "11326  2019-02-21               4.55                               4   \n",
       "12092  2019-06-17               3.46                               1   \n",
       "12182  2019-05-26               2.89                               2   \n",
       "12375  2017-07-31               2.28                               1   \n",
       "\n",
       "       availability_365  \n",
       "8                     0  \n",
       "94                    0  \n",
       "132                   0  \n",
       "174                   0  \n",
       "180                   0  \n",
       "...                 ...  \n",
       "11323                 0  \n",
       "11326                 0  \n",
       "12092                 0  \n",
       "12182                 0  \n",
       "12375                 0  \n",
       "\n",
       "[100 rows x 16 columns]"
      ]
     },
     "execution_count": 41,
     "metadata": {},
     "output_type": "execute_result"
    }
   ],
   "source": [
    "# Who currently has no (zero) availability with a review count of 100 or more?\n",
    "air_bnb[(air_bnb[\"number_of_reviews\"]>=100) & (air_bnb[\"availability_365\"] == 0)].head(100)\n"
   ]
  },
  {
   "cell_type": "code",
   "execution_count": 130,
   "metadata": {},
   "outputs": [
    {
     "data": {
      "text/plain": [
       "host_name\n",
       "Sonder (NYC)         82795\n",
       "Blueground           70331\n",
       "Michael              66895\n",
       "David                65844\n",
       "Alex                 52563\n",
       "                     ...  \n",
       "Carolann                12\n",
       "Vishanti & Jeremy       10\n",
       "Salim                   10\n",
       "Aymeric                  0\n",
       "Qiuchi                   0\n",
       "Name: price, Length: 11452, dtype: int64"
      ]
     },
     "execution_count": 130,
     "metadata": {},
     "output_type": "execute_result"
    }
   ],
   "source": [
    "# What host has the highest total of prices and where are they located?\n",
    "# air_bnb.set_index(\"host_name\", inplace=True)\n",
    "# air_bnb.loc['Sonder (NYC)']\n",
    "air_bnb.groupby(\"host_name\")['price'].sum().sort_values(ascending= False)\n",
    "\n",
    "\n",
    "\n"
   ]
  },
  {
   "cell_type": "code",
   "execution_count": 134,
   "metadata": {},
   "outputs": [
    {
     "data": {
      "text/plain": [
       "7086     2019-07-03\n",
       "16349           NaN\n",
       "20403    2019-07-06\n",
       "21517    2019-07-07\n",
       "22068    2019-07-06\n",
       "22469    2019-07-08\n",
       "27021    2018-01-02\n",
       "33861    2019-06-20\n",
       "Name: last_review, dtype: object"
      ]
     },
     "execution_count": 134,
     "metadata": {},
     "output_type": "execute_result"
    }
   ],
   "source": [
    "# When did Danielle from Queens last receive a review?\n",
    "\n",
    "air_bnb[(air_bnb[\"host_name\"]== \"Danielle\") & (air_bnb[\"neighbourhood_group\"] == 'Queens')][\"last_review\"]\n",
    "\n"
   ]
  },
  {
   "cell_type": "markdown",
   "metadata": {},
   "source": [
    "## Further Questions\n",
    "\n",
    "1. Which host has the most listings?"
   ]
  },
  {
   "cell_type": "code",
   "execution_count": 31,
   "metadata": {},
   "outputs": [
    {
     "data": {
      "text/plain": [
       "Michael           417\n",
       "David             403\n",
       "Sonder (NYC)      327\n",
       "John              294\n",
       "Alex              279\n",
       "                 ... \n",
       "Sherra              1\n",
       "Xristina&Keith      1\n",
       "Ronaldo             1\n",
       "Capucine            1\n",
       "Lindy               1\n",
       "Name: host_name, Length: 11452, dtype: int64"
      ]
     },
     "execution_count": 31,
     "metadata": {},
     "output_type": "execute_result"
    }
   ],
   "source": [
    "air_bnb[\"host_name\"].value_counts()\n"
   ]
  },
  {
   "cell_type": "markdown",
   "metadata": {},
   "source": [
    "2. How many listings have completely open availability?"
   ]
  },
  {
   "cell_type": "code",
   "execution_count": 35,
   "metadata": {},
   "outputs": [
    {
     "data": {
      "text/plain": [
       "1295"
      ]
     },
     "execution_count": 35,
     "metadata": {},
     "output_type": "execute_result"
    }
   ],
   "source": [
    "len(air_bnb[air_bnb[\"availability_365\"]==365])\n"
   ]
  },
  {
   "cell_type": "markdown",
   "metadata": {},
   "source": [
    "3. What room_types have the highest review numbers?"
   ]
  },
  {
   "cell_type": "code",
   "execution_count": 36,
   "metadata": {},
   "outputs": [
    {
     "data": {
      "text/plain": [
       "room_type\n",
       "Private room       24.112962\n",
       "Entire home/apt    22.842418\n",
       "Shared room        16.600000\n",
       "Name: number_of_reviews, dtype: float64"
      ]
     },
     "execution_count": 36,
     "metadata": {},
     "output_type": "execute_result"
    }
   ],
   "source": [
    "air_bnb.groupby(\"room_type\")[\"number_of_reviews\"].mean().sort_values(ascending = False)\n"
   ]
  },
  {
   "cell_type": "markdown",
   "metadata": {},
   "source": [
    "# Final Conclusion\n",
    "\n",
    "In this cell, write your final conclusion for each of the questions asked.\n",
    "\n",
    "Also, if you uncovered some more details that were not asked above, please discribe them here.\n",
    "\n",
    "-- Add your conclusion --"
   ]
  },
  {
   "cell_type": "code",
   "execution_count": null,
   "metadata": {},
   "outputs": [],
   "source": [
    "1. There are five and Manhattan is the most popular.\n",
    "2. No entire homes/apt are the most popular.\n",
    "3. David, Michael , Alex\n",
    "4. Manhattan\n",
    "5. Manhattan \n",
    "6. Sonder(NYC),Blueground,Michael,David,Alex     \n",
    "7. Mary Ellen, Christina, Sol, Coral, Doug, Sofia, Antonia, Margarita\n",
    "8. Sonder (NYC) in Manhattan\n",
    "9. 2019-07-08 was the last review\n",
    "10. Michael\n",
    "11. 1295\n",
    "12. private room"
   ]
  }
 ],
 "metadata": {
  "kernelspec": {
   "display_name": "Python 3",
   "language": "python",
   "name": "python3"
  },
  "language_info": {
   "codemirror_mode": {
    "name": "ipython",
    "version": 3
   },
   "file_extension": ".py",
   "mimetype": "text/x-python",
   "name": "python",
   "nbconvert_exporter": "python",
   "pygments_lexer": "ipython3",
   "version": "3.7.6"
  }
 },
 "nbformat": 4,
 "nbformat_minor": 2
}
